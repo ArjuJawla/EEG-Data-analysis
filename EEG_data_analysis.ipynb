{
  "nbformat": 4,
  "nbformat_minor": 0,
  "metadata": {
    "colab": {
      "provenance": []
    },
    "kernelspec": {
      "name": "python3",
      "display_name": "Python 3"
    },
    "language_info": {
      "name": "python"
    }
  },
  "cells": [
    {
      "cell_type": "markdown",
      "source": [
        "# Analysis of EEG data to classify different cognitive states using EEGNet"
      ],
      "metadata": {
        "id": "BNXC9cotT3g3"
      }
    },
    {
      "cell_type": "markdown",
      "source": [
        "Installing Requied packages"
      ],
      "metadata": {
        "id": "9zNjHb8cT-7E"
      }
    },
    {
      "cell_type": "code",
      "source": [
        "!pip install pyedflib\n",
        "!pip install mne\n",
        "!pip install tensorflow\n",
        "!pip install torch"
      ],
      "metadata": {
        "colab": {
          "base_uri": "https://localhost:8080/"
        },
        "id": "YmEddGPMT7Zq",
        "outputId": "4e689e87-8bce-4d40-b525-40a1e914cd20"
      },
      "execution_count": null,
      "outputs": [
        {
          "output_type": "stream",
          "name": "stdout",
          "text": [
            "Collecting pyedflib\n",
            "  Downloading pyEDFlib-0.1.37-cp310-cp310-manylinux_2_17_x86_64.manylinux2014_x86_64.whl (2.7 MB)\n",
            "\u001b[2K     \u001b[90m━━━━━━━━━━━━━━━━━━━━━━━━━━━━━━━━━━━━━━━━\u001b[0m \u001b[32m2.7/2.7 MB\u001b[0m \u001b[31m10.6 MB/s\u001b[0m eta \u001b[36m0:00:00\u001b[0m\n",
            "\u001b[?25hRequirement already satisfied: numpy>=1.9.1 in /usr/local/lib/python3.10/dist-packages (from pyedflib) (1.25.2)\n",
            "Installing collected packages: pyedflib\n",
            "Successfully installed pyedflib-0.1.37\n",
            "Collecting mne\n",
            "  Downloading mne-1.7.1-py3-none-any.whl (7.4 MB)\n",
            "\u001b[2K     \u001b[90m━━━━━━━━━━━━━━━━━━━━━━━━━━━━━━━━━━━━━━━━\u001b[0m \u001b[32m7.4/7.4 MB\u001b[0m \u001b[31m23.7 MB/s\u001b[0m eta \u001b[36m0:00:00\u001b[0m\n",
            "\u001b[?25hRequirement already satisfied: decorator in /usr/local/lib/python3.10/dist-packages (from mne) (4.4.2)\n",
            "Requirement already satisfied: jinja2 in /usr/local/lib/python3.10/dist-packages (from mne) (3.1.4)\n",
            "Requirement already satisfied: lazy-loader>=0.3 in /usr/local/lib/python3.10/dist-packages (from mne) (0.4)\n",
            "Requirement already satisfied: matplotlib>=3.5.0 in /usr/local/lib/python3.10/dist-packages (from mne) (3.7.1)\n",
            "Requirement already satisfied: numpy>=1.21.2 in /usr/local/lib/python3.10/dist-packages (from mne) (1.25.2)\n",
            "Requirement already satisfied: packaging in /usr/local/lib/python3.10/dist-packages (from mne) (24.1)\n",
            "Requirement already satisfied: pooch>=1.5 in /usr/local/lib/python3.10/dist-packages (from mne) (1.8.2)\n",
            "Requirement already satisfied: scipy>=1.7.1 in /usr/local/lib/python3.10/dist-packages (from mne) (1.11.4)\n",
            "Requirement already satisfied: tqdm in /usr/local/lib/python3.10/dist-packages (from mne) (4.66.4)\n",
            "Requirement already satisfied: contourpy>=1.0.1 in /usr/local/lib/python3.10/dist-packages (from matplotlib>=3.5.0->mne) (1.2.1)\n",
            "Requirement already satisfied: cycler>=0.10 in /usr/local/lib/python3.10/dist-packages (from matplotlib>=3.5.0->mne) (0.12.1)\n",
            "Requirement already satisfied: fonttools>=4.22.0 in /usr/local/lib/python3.10/dist-packages (from matplotlib>=3.5.0->mne) (4.53.0)\n",
            "Requirement already satisfied: kiwisolver>=1.0.1 in /usr/local/lib/python3.10/dist-packages (from matplotlib>=3.5.0->mne) (1.4.5)\n",
            "Requirement already satisfied: pillow>=6.2.0 in /usr/local/lib/python3.10/dist-packages (from matplotlib>=3.5.0->mne) (9.4.0)\n",
            "Requirement already satisfied: pyparsing>=2.3.1 in /usr/local/lib/python3.10/dist-packages (from matplotlib>=3.5.0->mne) (3.1.2)\n",
            "Requirement already satisfied: python-dateutil>=2.7 in /usr/local/lib/python3.10/dist-packages (from matplotlib>=3.5.0->mne) (2.8.2)\n",
            "Requirement already satisfied: platformdirs>=2.5.0 in /usr/local/lib/python3.10/dist-packages (from pooch>=1.5->mne) (4.2.2)\n",
            "Requirement already satisfied: requests>=2.19.0 in /usr/local/lib/python3.10/dist-packages (from pooch>=1.5->mne) (2.31.0)\n",
            "Requirement already satisfied: MarkupSafe>=2.0 in /usr/local/lib/python3.10/dist-packages (from jinja2->mne) (2.1.5)\n",
            "Requirement already satisfied: six>=1.5 in /usr/local/lib/python3.10/dist-packages (from python-dateutil>=2.7->matplotlib>=3.5.0->mne) (1.16.0)\n",
            "Requirement already satisfied: charset-normalizer<4,>=2 in /usr/local/lib/python3.10/dist-packages (from requests>=2.19.0->pooch>=1.5->mne) (3.3.2)\n",
            "Requirement already satisfied: idna<4,>=2.5 in /usr/local/lib/python3.10/dist-packages (from requests>=2.19.0->pooch>=1.5->mne) (3.7)\n",
            "Requirement already satisfied: urllib3<3,>=1.21.1 in /usr/local/lib/python3.10/dist-packages (from requests>=2.19.0->pooch>=1.5->mne) (2.0.7)\n",
            "Requirement already satisfied: certifi>=2017.4.17 in /usr/local/lib/python3.10/dist-packages (from requests>=2.19.0->pooch>=1.5->mne) (2024.6.2)\n",
            "Installing collected packages: mne\n",
            "Successfully installed mne-1.7.1\n",
            "Requirement already satisfied: tensorflow in /usr/local/lib/python3.10/dist-packages (2.15.0)\n",
            "Requirement already satisfied: absl-py>=1.0.0 in /usr/local/lib/python3.10/dist-packages (from tensorflow) (1.4.0)\n",
            "Requirement already satisfied: astunparse>=1.6.0 in /usr/local/lib/python3.10/dist-packages (from tensorflow) (1.6.3)\n",
            "Requirement already satisfied: flatbuffers>=23.5.26 in /usr/local/lib/python3.10/dist-packages (from tensorflow) (24.3.25)\n",
            "Requirement already satisfied: gast!=0.5.0,!=0.5.1,!=0.5.2,>=0.2.1 in /usr/local/lib/python3.10/dist-packages (from tensorflow) (0.6.0)\n",
            "Requirement already satisfied: google-pasta>=0.1.1 in /usr/local/lib/python3.10/dist-packages (from tensorflow) (0.2.0)\n",
            "Requirement already satisfied: h5py>=2.9.0 in /usr/local/lib/python3.10/dist-packages (from tensorflow) (3.9.0)\n",
            "Requirement already satisfied: libclang>=13.0.0 in /usr/local/lib/python3.10/dist-packages (from tensorflow) (18.1.1)\n",
            "Requirement already satisfied: ml-dtypes~=0.2.0 in /usr/local/lib/python3.10/dist-packages (from tensorflow) (0.2.0)\n",
            "Requirement already satisfied: numpy<2.0.0,>=1.23.5 in /usr/local/lib/python3.10/dist-packages (from tensorflow) (1.25.2)\n",
            "Requirement already satisfied: opt-einsum>=2.3.2 in /usr/local/lib/python3.10/dist-packages (from tensorflow) (3.3.0)\n",
            "Requirement already satisfied: packaging in /usr/local/lib/python3.10/dist-packages (from tensorflow) (24.1)\n",
            "Requirement already satisfied: protobuf!=4.21.0,!=4.21.1,!=4.21.2,!=4.21.3,!=4.21.4,!=4.21.5,<5.0.0dev,>=3.20.3 in /usr/local/lib/python3.10/dist-packages (from tensorflow) (3.20.3)\n",
            "Requirement already satisfied: setuptools in /usr/local/lib/python3.10/dist-packages (from tensorflow) (67.7.2)\n",
            "Requirement already satisfied: six>=1.12.0 in /usr/local/lib/python3.10/dist-packages (from tensorflow) (1.16.0)\n",
            "Requirement already satisfied: termcolor>=1.1.0 in /usr/local/lib/python3.10/dist-packages (from tensorflow) (2.4.0)\n",
            "Requirement already satisfied: typing-extensions>=3.6.6 in /usr/local/lib/python3.10/dist-packages (from tensorflow) (4.12.2)\n",
            "Requirement already satisfied: wrapt<1.15,>=1.11.0 in /usr/local/lib/python3.10/dist-packages (from tensorflow) (1.14.1)\n",
            "Requirement already satisfied: tensorflow-io-gcs-filesystem>=0.23.1 in /usr/local/lib/python3.10/dist-packages (from tensorflow) (0.37.0)\n",
            "Requirement already satisfied: grpcio<2.0,>=1.24.3 in /usr/local/lib/python3.10/dist-packages (from tensorflow) (1.64.1)\n",
            "Requirement already satisfied: tensorboard<2.16,>=2.15 in /usr/local/lib/python3.10/dist-packages (from tensorflow) (2.15.2)\n",
            "Requirement already satisfied: tensorflow-estimator<2.16,>=2.15.0 in /usr/local/lib/python3.10/dist-packages (from tensorflow) (2.15.0)\n",
            "Requirement already satisfied: keras<2.16,>=2.15.0 in /usr/local/lib/python3.10/dist-packages (from tensorflow) (2.15.0)\n",
            "Requirement already satisfied: wheel<1.0,>=0.23.0 in /usr/local/lib/python3.10/dist-packages (from astunparse>=1.6.0->tensorflow) (0.43.0)\n",
            "Requirement already satisfied: google-auth<3,>=1.6.3 in /usr/local/lib/python3.10/dist-packages (from tensorboard<2.16,>=2.15->tensorflow) (2.27.0)\n",
            "Requirement already satisfied: google-auth-oauthlib<2,>=0.5 in /usr/local/lib/python3.10/dist-packages (from tensorboard<2.16,>=2.15->tensorflow) (1.2.0)\n",
            "Requirement already satisfied: markdown>=2.6.8 in /usr/local/lib/python3.10/dist-packages (from tensorboard<2.16,>=2.15->tensorflow) (3.6)\n",
            "Requirement already satisfied: requests<3,>=2.21.0 in /usr/local/lib/python3.10/dist-packages (from tensorboard<2.16,>=2.15->tensorflow) (2.31.0)\n",
            "Requirement already satisfied: tensorboard-data-server<0.8.0,>=0.7.0 in /usr/local/lib/python3.10/dist-packages (from tensorboard<2.16,>=2.15->tensorflow) (0.7.2)\n",
            "Requirement already satisfied: werkzeug>=1.0.1 in /usr/local/lib/python3.10/dist-packages (from tensorboard<2.16,>=2.15->tensorflow) (3.0.3)\n",
            "Requirement already satisfied: cachetools<6.0,>=2.0.0 in /usr/local/lib/python3.10/dist-packages (from google-auth<3,>=1.6.3->tensorboard<2.16,>=2.15->tensorflow) (5.3.3)\n",
            "Requirement already satisfied: pyasn1-modules>=0.2.1 in /usr/local/lib/python3.10/dist-packages (from google-auth<3,>=1.6.3->tensorboard<2.16,>=2.15->tensorflow) (0.4.0)\n",
            "Requirement already satisfied: rsa<5,>=3.1.4 in /usr/local/lib/python3.10/dist-packages (from google-auth<3,>=1.6.3->tensorboard<2.16,>=2.15->tensorflow) (4.9)\n",
            "Requirement already satisfied: requests-oauthlib>=0.7.0 in /usr/local/lib/python3.10/dist-packages (from google-auth-oauthlib<2,>=0.5->tensorboard<2.16,>=2.15->tensorflow) (1.3.1)\n",
            "Requirement already satisfied: charset-normalizer<4,>=2 in /usr/local/lib/python3.10/dist-packages (from requests<3,>=2.21.0->tensorboard<2.16,>=2.15->tensorflow) (3.3.2)\n",
            "Requirement already satisfied: idna<4,>=2.5 in /usr/local/lib/python3.10/dist-packages (from requests<3,>=2.21.0->tensorboard<2.16,>=2.15->tensorflow) (3.7)\n",
            "Requirement already satisfied: urllib3<3,>=1.21.1 in /usr/local/lib/python3.10/dist-packages (from requests<3,>=2.21.0->tensorboard<2.16,>=2.15->tensorflow) (2.0.7)\n",
            "Requirement already satisfied: certifi>=2017.4.17 in /usr/local/lib/python3.10/dist-packages (from requests<3,>=2.21.0->tensorboard<2.16,>=2.15->tensorflow) (2024.6.2)\n",
            "Requirement already satisfied: MarkupSafe>=2.1.1 in /usr/local/lib/python3.10/dist-packages (from werkzeug>=1.0.1->tensorboard<2.16,>=2.15->tensorflow) (2.1.5)\n",
            "Requirement already satisfied: pyasn1<0.7.0,>=0.4.6 in /usr/local/lib/python3.10/dist-packages (from pyasn1-modules>=0.2.1->google-auth<3,>=1.6.3->tensorboard<2.16,>=2.15->tensorflow) (0.6.0)\n",
            "Requirement already satisfied: oauthlib>=3.0.0 in /usr/local/lib/python3.10/dist-packages (from requests-oauthlib>=0.7.0->google-auth-oauthlib<2,>=0.5->tensorboard<2.16,>=2.15->tensorflow) (3.2.2)\n",
            "Requirement already satisfied: torch in /usr/local/lib/python3.10/dist-packages (2.3.0+cu121)\n",
            "Requirement already satisfied: filelock in /usr/local/lib/python3.10/dist-packages (from torch) (3.15.4)\n",
            "Requirement already satisfied: typing-extensions>=4.8.0 in /usr/local/lib/python3.10/dist-packages (from torch) (4.12.2)\n",
            "Requirement already satisfied: sympy in /usr/local/lib/python3.10/dist-packages (from torch) (1.12.1)\n",
            "Requirement already satisfied: networkx in /usr/local/lib/python3.10/dist-packages (from torch) (3.3)\n",
            "Requirement already satisfied: jinja2 in /usr/local/lib/python3.10/dist-packages (from torch) (3.1.4)\n",
            "Requirement already satisfied: fsspec in /usr/local/lib/python3.10/dist-packages (from torch) (2023.6.0)\n",
            "Collecting nvidia-cuda-nvrtc-cu12==12.1.105 (from torch)\n",
            "  Using cached nvidia_cuda_nvrtc_cu12-12.1.105-py3-none-manylinux1_x86_64.whl (23.7 MB)\n",
            "Collecting nvidia-cuda-runtime-cu12==12.1.105 (from torch)\n",
            "  Using cached nvidia_cuda_runtime_cu12-12.1.105-py3-none-manylinux1_x86_64.whl (823 kB)\n",
            "Collecting nvidia-cuda-cupti-cu12==12.1.105 (from torch)\n",
            "  Using cached nvidia_cuda_cupti_cu12-12.1.105-py3-none-manylinux1_x86_64.whl (14.1 MB)\n",
            "Collecting nvidia-cudnn-cu12==8.9.2.26 (from torch)\n",
            "  Using cached nvidia_cudnn_cu12-8.9.2.26-py3-none-manylinux1_x86_64.whl (731.7 MB)\n",
            "Collecting nvidia-cublas-cu12==12.1.3.1 (from torch)\n",
            "  Using cached nvidia_cublas_cu12-12.1.3.1-py3-none-manylinux1_x86_64.whl (410.6 MB)\n",
            "Collecting nvidia-cufft-cu12==11.0.2.54 (from torch)\n",
            "  Using cached nvidia_cufft_cu12-11.0.2.54-py3-none-manylinux1_x86_64.whl (121.6 MB)\n",
            "Collecting nvidia-curand-cu12==10.3.2.106 (from torch)\n",
            "  Using cached nvidia_curand_cu12-10.3.2.106-py3-none-manylinux1_x86_64.whl (56.5 MB)\n",
            "Collecting nvidia-cusolver-cu12==11.4.5.107 (from torch)\n",
            "  Using cached nvidia_cusolver_cu12-11.4.5.107-py3-none-manylinux1_x86_64.whl (124.2 MB)\n",
            "Collecting nvidia-cusparse-cu12==12.1.0.106 (from torch)\n",
            "  Using cached nvidia_cusparse_cu12-12.1.0.106-py3-none-manylinux1_x86_64.whl (196.0 MB)\n",
            "Collecting nvidia-nccl-cu12==2.20.5 (from torch)\n",
            "  Using cached nvidia_nccl_cu12-2.20.5-py3-none-manylinux2014_x86_64.whl (176.2 MB)\n",
            "Collecting nvidia-nvtx-cu12==12.1.105 (from torch)\n",
            "  Using cached nvidia_nvtx_cu12-12.1.105-py3-none-manylinux1_x86_64.whl (99 kB)\n",
            "Requirement already satisfied: triton==2.3.0 in /usr/local/lib/python3.10/dist-packages (from torch) (2.3.0)\n",
            "Collecting nvidia-nvjitlink-cu12 (from nvidia-cusolver-cu12==11.4.5.107->torch)\n",
            "  Downloading nvidia_nvjitlink_cu12-12.5.82-py3-none-manylinux2014_x86_64.whl (21.3 MB)\n",
            "\u001b[2K     \u001b[90m━━━━━━━━━━━━━━━━━━━━━━━━━━━━━━━━━━━━━━━━\u001b[0m \u001b[32m21.3/21.3 MB\u001b[0m \u001b[31m49.4 MB/s\u001b[0m eta \u001b[36m0:00:00\u001b[0m\n",
            "\u001b[?25hRequirement already satisfied: MarkupSafe>=2.0 in /usr/local/lib/python3.10/dist-packages (from jinja2->torch) (2.1.5)\n",
            "Requirement already satisfied: mpmath<1.4.0,>=1.1.0 in /usr/local/lib/python3.10/dist-packages (from sympy->torch) (1.3.0)\n",
            "Installing collected packages: nvidia-nvtx-cu12, nvidia-nvjitlink-cu12, nvidia-nccl-cu12, nvidia-curand-cu12, nvidia-cufft-cu12, nvidia-cuda-runtime-cu12, nvidia-cuda-nvrtc-cu12, nvidia-cuda-cupti-cu12, nvidia-cublas-cu12, nvidia-cusparse-cu12, nvidia-cudnn-cu12, nvidia-cusolver-cu12\n",
            "Successfully installed nvidia-cublas-cu12-12.1.3.1 nvidia-cuda-cupti-cu12-12.1.105 nvidia-cuda-nvrtc-cu12-12.1.105 nvidia-cuda-runtime-cu12-12.1.105 nvidia-cudnn-cu12-8.9.2.26 nvidia-cufft-cu12-11.0.2.54 nvidia-curand-cu12-10.3.2.106 nvidia-cusolver-cu12-11.4.5.107 nvidia-cusparse-cu12-12.1.0.106 nvidia-nccl-cu12-2.20.5 nvidia-nvjitlink-cu12-12.5.82 nvidia-nvtx-cu12-12.1.105\n"
          ]
        }
      ]
    },
    {
      "cell_type": "code",
      "source": [
        "!pip install requests"
      ],
      "metadata": {
        "colab": {
          "base_uri": "https://localhost:8080/"
        },
        "id": "fD1BVKfUUDH4",
        "outputId": "5eac107e-778e-4ab3-d60d-227470877b23"
      },
      "execution_count": null,
      "outputs": [
        {
          "output_type": "stream",
          "name": "stdout",
          "text": [
            "Requirement already satisfied: requests in /usr/local/lib/python3.10/dist-packages (2.31.0)\n",
            "Requirement already satisfied: charset-normalizer<4,>=2 in /usr/local/lib/python3.10/dist-packages (from requests) (3.3.2)\n",
            "Requirement already satisfied: idna<4,>=2.5 in /usr/local/lib/python3.10/dist-packages (from requests) (3.7)\n",
            "Requirement already satisfied: urllib3<3,>=1.21.1 in /usr/local/lib/python3.10/dist-packages (from requests) (2.0.7)\n",
            "Requirement already satisfied: certifi>=2017.4.17 in /usr/local/lib/python3.10/dist-packages (from requests) (2024.6.2)\n"
          ]
        }
      ]
    },
    {
      "cell_type": "code",
      "source": [
        "#importing required libraries\n",
        "\n",
        "import pyedflib\n",
        "import numpy as np\n",
        "import os\n",
        "import requests"
      ],
      "metadata": {
        "id": "ZTWOZHuEUjis"
      },
      "execution_count": null,
      "outputs": []
    },
    {
      "cell_type": "markdown",
      "source": [
        "### 1. LOADING EEG DATA"
      ],
      "metadata": {
        "id": "PICMSmDdUsoj"
      }
    },
    {
      "cell_type": "code",
      "source": [
        "#function to download edf files from the web url\n",
        "\n",
        "def download_edf_file(url, local_filename):\n",
        "    with requests.get(url, stream=True) as r:   #sending GET request to URL\n",
        "        r.raise_for_status()                    #checking HTTP status code\n",
        "        with open(local_filename, 'wb') as f:\n",
        "            for chunk in r.iter_content(chunk_size=8192):    #loop iterrates over downloaded data in chunks and yielding it in specified size\n",
        "                f.write(chunk)                  #each chunked data is written to opened local file f"
      ],
      "metadata": {
        "id": "YRj5OpimUm4N"
      },
      "execution_count": null,
      "outputs": []
    },
    {
      "cell_type": "code",
      "source": [
        "#function to read EEG data from EDF file\n",
        "\n",
        "def read_edf_file(file_path):\n",
        "    f = pyedflib.EdfReader(file_path)            #reading data from EDF file\n",
        "    n = f.signals_in_file                        #retrieving number of EEG signals present in EDF file\n",
        "    signal_labels = f.getSignalLabels()          #retrieving labels of EEG signals\n",
        "    signals = np.zeros((n, f.getNSamples()[0]))  #creating NumPy 2D array  having columns number of signals retrieved earlier and otal number of samples present in the first signal\n",
        "\n",
        "    for i in np.arange(n):                       #data for the i-th signal assigned to i-th row of the signals\n",
        "        signals[i, :] = f.readSignal(i)\n",
        "\n",
        "    f.close()                                    #closing the file(important to release resourses)\n",
        "    return signals, signal_labels"
      ],
      "metadata": {
        "id": "0JfFqkO3U97R"
      },
      "execution_count": null,
      "outputs": []
    },
    {
      "cell_type": "code",
      "source": [
        "# download and read\n",
        "\n",
        "edf_url = 'https://physionet.org/files/eegmat/1.0.0/Subject00_1.edf?download'\n",
        "local_file = 'Subject00_1.edf'\n",
        "download_edf_file(edf_url, local_file)\n",
        "\n",
        "signals, signal_labels = read_edf_file(local_file)\n",
        "print(\"Signal Labels:\", signal_labels)\n",
        "print(\"Signals Shape:\", signals.shape)"
      ],
      "metadata": {
        "colab": {
          "base_uri": "https://localhost:8080/"
        },
        "id": "7dg1yojlVDMA",
        "outputId": "3322321f-69ee-43db-ce0e-3198899058df"
      },
      "execution_count": null,
      "outputs": [
        {
          "output_type": "stream",
          "name": "stdout",
          "text": [
            "Signal Labels: ['EEG Fp1', 'EEG Fp2', 'EEG F3', 'EEG F4', 'EEG F7', 'EEG F8', 'EEG T3', 'EEG T4', 'EEG C3', 'EEG C4', 'EEG T5', 'EEG T6', 'EEG P3', 'EEG P4', 'EEG O1', 'EEG O2', 'EEG Fz', 'EEG Cz', 'EEG Pz', 'EEG A2-A1', 'ECG ECG']\n",
            "Signals Shape: (21, 91000)\n"
          ]
        }
      ]
    },
    {
      "cell_type": "markdown",
      "source": [
        "hence the location of the electrodes on the scalp where the EEG signals were recorded are 'EEG Fp1', 'EEG Fp2', 'EEG F3', 'EEG F4', 'EEG F7', 'EEG F8', 'EEG T3', 'EEG T4', 'EEG C3', 'EEG C4', 'EEG T5', 'EEG T6', 'EEG P3', 'EEG P4', 'EEG O1', 'EEG O2', 'EEG Fz', 'EEG Cz', 'EEG Pz', 'EEG A2-A1', 'ECG ECG'\n",
        "\n",
        "and the shape of the data is (21,91000) which suggests that there are 21 channels present in the recording and 910000 samples has been collected for each channel"
      ],
      "metadata": {
        "id": "ArlBrxX2VN0G"
      }
    },
    {
      "cell_type": "markdown",
      "source": [
        "### 2. PowerSpectral Density (PSD) Analysis:"
      ],
      "metadata": {
        "id": "H20z9SlNVVHE"
      }
    },
    {
      "cell_type": "code",
      "source": [
        "#importing welch function from the signal submodule of the scipy liraray to estimate PSD o a signal\n",
        "\n",
        "from scipy.signal import welch\n",
        "\n",
        "#defining function theat calculates PSD for specific frequency bands in a set of EEG signals\n",
        "\n",
        "def bandwise_psd(signals, fs, bands):\n",
        "    psd_band = {}                            #intializes a dictionary\n",
        "    for band, (low, high) in bands.items():  #iterates over each band in the bands dictionary\n",
        "        band_power = []                      #empty list is created which will temporarily store the calculated power for the current frequency band across all EEG signals.\n",
        "        for signal in signals:\n",
        "            f, Pxx = welch(signal, fs, nperseg=1024)  #calculated PSD of the current EEg signal\n",
        "            band_power.append(np.sum(Pxx[(f >= low) & (f <= high)])) #calculating power within current frequency band for the current signal\n",
        "        psd_band[band] = np.array(band_power) #converting the band_power list (containing power values for all signals) into a NumPy array\n",
        "    return psd_band"
      ],
      "metadata": {
        "id": "zq48seaTVIya"
      },
      "execution_count": null,
      "outputs": []
    },
    {
      "cell_type": "code",
      "source": [
        "# Define frequency bands in the frequency dictionary\n",
        "bands = {\n",
        "    'Delta': (1, 4),\n",
        "    'Theta': (4, 8),\n",
        "    'Alpha': (8, 12),\n",
        "    'Beta': (12, 30),\n",
        "    'Gamma': (30, 100)}\n",
        "\n",
        "\n",
        "fs = 256  # Sample rate (Hz)"
      ],
      "metadata": {
        "id": "wG939kwnVbIT"
      },
      "execution_count": null,
      "outputs": []
    },
    {
      "cell_type": "code",
      "source": [
        "# Placeholder for actual signals_rest and signals_task arrays\n",
        "# signals_rest, signals_task should be loaded or defined accordingly\n",
        "#assigning first half of the signals to the array signals_rest and other half to signal_task\n",
        "#using slicing\n",
        "\n",
        "signals_rest = signals[:len(signals)//2]\n",
        "signals_task = signals[len(signals)//2:]"
      ],
      "metadata": {
        "id": "MdwNu2aqVkmM"
      },
      "execution_count": null,
      "outputs": []
    },
    {
      "cell_type": "code",
      "source": [
        "# Calculate PSD for both rest and task states\n",
        "psd_rest = bandwise_psd(signals_rest, fs, bands)\n",
        "psd_task = bandwise_psd(signals_task, fs, bands)\n",
        "\n",
        "print(\"PSD for rest state:\", psd_rest)\n",
        "print(\"PSD for task state:\", psd_task)"
      ],
      "metadata": {
        "colab": {
          "base_uri": "https://localhost:8080/"
        },
        "id": "3E3waA9OVq3T",
        "outputId": "394b3c0f-41be-4da5-80d6-0c52754a9620"
      },
      "execution_count": null,
      "outputs": [
        {
          "output_type": "stream",
          "name": "stdout",
          "text": [
            "PSD for rest state: {'Delta': array([ 82.3048249 , 116.48628043, 135.17881705, 153.29677714,\n",
            "       183.41557433, 147.87426557, 159.78869988, 112.49071344,\n",
            "       157.04938009, 149.37007618]), 'Theta': array([150.23177745, 187.60378975, 237.16530826, 250.7125101 ,\n",
            "       161.24318626, 180.13976137, 227.1099896 , 233.16655574,\n",
            "       213.65383716, 227.82261516]), 'Alpha': array([29.18406536, 37.37467675, 50.41482417, 51.92243358, 39.53233794,\n",
            "       45.14321802, 52.33939245, 41.47475868, 52.70465549, 56.55993694]), 'Beta': array([14.90392806, 25.80687763, 25.07333502, 23.98966863, 27.10315987,\n",
            "       30.4356694 , 27.11896384, 18.15721921, 24.79464667, 24.46883978]), 'Gamma': array([0.00731258, 0.01632932, 0.00990982, 0.01357813, 0.01665179,\n",
            "       0.01292433, 0.01358526, 0.00877626, 0.0088012 , 0.01129898])}\n",
            "PSD for task state: {'Delta': array([9.97448053e+01, 1.15374643e+02, 1.19571300e+02, 1.30886771e+02,\n",
            "       1.28018522e+02, 1.43662166e+02, 1.53484817e+02, 2.89956427e+02,\n",
            "       1.30526409e+02, 1.69917705e+01, 3.07140147e-02]), 'Theta': array([1.71181634e+02, 3.96965868e+02, 2.51119428e+02, 4.12021393e+02,\n",
            "       3.51242367e+02, 8.30137642e+02, 2.49970936e+02, 2.42406126e+02,\n",
            "       2.67440116e+02, 2.68595501e+01, 1.91047983e-02]), 'Alpha': array([3.30979555e+01, 5.28004528e+01, 4.85909888e+01, 5.55982401e+01,\n",
            "       5.97544102e+01, 7.85659577e+01, 5.13225570e+01, 5.88544022e+01,\n",
            "       5.25761893e+01, 3.77227959e+00, 5.36904750e-03]), 'Beta': array([1.50626348e+01, 2.32039311e+01, 2.04391961e+01, 2.12290634e+01,\n",
            "       2.19492201e+01, 2.63649405e+01, 2.34105419e+01, 2.66361692e+01,\n",
            "       2.01456341e+01, 1.76886903e+00, 1.46385995e-03]), 'Gamma': array([1.04153989e-02, 8.63599520e-03, 7.44621575e-03, 6.04384577e-03,\n",
            "       9.45145538e-03, 6.85924588e-03, 1.29877364e-02, 9.30076552e-03,\n",
            "       7.09185736e-03, 5.26083155e-04, 5.57459742e-07])}\n"
          ]
        }
      ]
    },
    {
      "cell_type": "markdown",
      "source": [
        "Comparing the PSDs of the two states"
      ],
      "metadata": {
        "id": "IoTEeP1JWIl1"
      }
    },
    {
      "cell_type": "code",
      "source": [
        "#importing math library\n",
        "\n",
        "import matplotlib.pyplot as plt\n",
        "\n",
        "#defining a function to visualize comparison of PSD between resting and task states\n",
        "\n",
        "def plot_psd_comparison(psd_rest, psd_task, bands):\n",
        "    fig, axes = plt.subplots(len(bands), 1, figsize=(10, 12))   #setting up plot\n",
        "    for i, (band, _) in enumerate(bands.items()):               #Iterating Over Frequency Bands\n",
        "        axes[i].bar(['Rest', 'Task'], [np.mean(psd_rest[band]), np.mean(psd_task[band])])    #Plotting Band Power Comparison\n",
        "        axes[i].set_title(f'{band} Band Power')                     #setting title for each band\n",
        "        axes[i].set_ylabel('Power')\n",
        "    plt.tight_layout()\n",
        "    plt.show()\n",
        "\n",
        "plot_psd_comparison(psd_rest, psd_task, bands)"
      ],
      "metadata": {
        "colab": {
          "base_uri": "https://localhost:8080/",
          "height": 786
        },
        "id": "3XnB15UfVtsa",
        "outputId": "b894262e-db33-4c75-aa95-7c313b4395a1"
      },
      "execution_count": null,
      "outputs": [
        {
          "output_type": "display_data",
          "data": {
            "text/plain": [
              "<Figure size 1000x1200 with 5 Axes>"
            ],
            "image/png": "[encoded data removed]"
          },
          "metadata": {}
        }
      ]
    },
    {
      "cell_type": "markdown",
      "source": [
        "Delta Band (1-4 Hz):\n",
        "\n",
        "- During the rest state, the PSD in the delta band is higher, indicating a state of deep relaxation or sleep-like activity.\n",
        "- During the task state, the delta band power decreases, reflecting less relaxation and increased cognitive engagement.\n",
        "\n",
        "Theta Band (4-8 Hz):\n",
        "\n",
        "- In the rest state, there is higher power in the theta band, associated with drowsiness or light sleep.\n",
        "- In the task state, theta power decreases but remains present, indicating focused attention and memory processing.\n",
        "\n",
        "Alpha Band (8-12 Hz):\n",
        "\n",
        "- The rest state shows prominent alpha power, which is typical of a relaxed, wakeful state with closed eyes.\n",
        "- The task state exhibits a significant reduction in alpha power, corresponding to increased mental activity and attention.\n",
        "\n",
        "Beta Band (12-30 Hz):\n",
        "\n",
        "- There is a noticeable increase in beta power during the task state, associated with active concentration, cognitive processing, and motor activities.\n",
        "-The rest state has lower beta power, reflecting reduced cognitive and motor activity.\n",
        "\n",
        "Gamma Band (30-100 Hz):\n",
        "\n",
        "- Gamma power increases significantly during the task state, indicating high-level cognitive functions such as perception, problem-solving, and consciousness.\n",
        "- In the rest state, gamma power is lower, reflecting reduced complex cognitive processing."
      ],
      "metadata": {
        "id": "eLQxjnMoYbf3"
      }
    },
    {
      "cell_type": "markdown",
      "source": [
        "###  3. Deeplearning classification:"
      ],
      "metadata": {
        "id": "ngw6l705Y8bz"
      }
    },
    {
      "cell_type": "code",
      "source": [
        "#importing required libraries and functions used in machine learning tasks\n",
        "\n",
        "from sklearn.preprocessing import StandardScaler   #standard scaler class for data preprocessing\n",
        "#It scales features (columns) of a dataset to have zero mean and unit variance\n",
        "\n",
        "#import train_test_split function to split a dataset into training and testing sets\n",
        "\n",
        "from sklearn.model_selection import train_test_split\n",
        "\n",
        "#import functions for evaluating the performance of model\n",
        "\n",
        "from sklearn.metrics import accuracy_score, precision_score, recall_score, f1_score\n",
        "\n",
        "#import tensorflow library\n",
        "\n",
        "import tensorflow as tf\n",
        "from tensorflow.keras.models import Sequential\n",
        "from tensorflow.keras.layers import Dense, Conv2D, Flatten, Reshape"
      ],
      "metadata": {
        "id": "gloNQDrNWXtY"
      },
      "execution_count": null,
      "outputs": []
    },
    {
      "cell_type": "code",
      "source": [
        "#defining a function that prepares PSD data to use in machine learning\n",
        "\n",
        "def extract_features(psd_rest, psd_task):\n",
        "    features_rest = np.array([list(psd_rest[band]) for band in bands.keys()]).T\n",
        "    features_task = np.array([list(psd_task[band]) for band in bands.keys()]).T\n",
        "\n",
        "    # Combine and create labels\n",
        "    X = np.vstack([features_rest, features_task])\n",
        "    y = np.hstack([np.zeros(len(features_rest)), np.ones(len(features_task))])\n",
        "\n",
        "    # Standardize features\n",
        "    scaler = StandardScaler()\n",
        "    X = scaler.fit_transform(X)\n",
        "\n",
        "    return X, y\n"
      ],
      "metadata": {
        "id": "s1DhpnG4ZGuJ"
      },
      "execution_count": null,
      "outputs": []
    },
    {
      "cell_type": "code",
      "source": [
        "#extract features\n",
        "X, y = extract_features(psd_rest, psd_task)\n",
        "\n",
        "# Split data\n",
        "X_train, X_test, y_train, y_test = train_test_split(X, y, test_size=0.2, random_state=42)"
      ],
      "metadata": {
        "id": "wV5UN9PHZN_B"
      },
      "execution_count": null,
      "outputs": []
    },
    {
      "cell_type": "code",
      "source": [
        "# building EEGNet model\n",
        "def build_eegnet(input_shape):\n",
        "    model = Sequential([\n",
        "        Reshape((input_shape[0], 1, 1), input_shape=input_shape),\n",
        "        Conv2D(16, (1, 64), padding='same', activation='relu'),\n",
        "        Conv2D(4, (1, 16), padding='same', activation='relu'),\n",
        "        Flatten(),\n",
        "        Dense(2, activation='softmax')\n",
        "    ])\n",
        "\n",
        "    #configuring the training process of the model\n",
        "    #Adam optimizer is used for training the model\n",
        "    model.compile(optimizer='adam', loss='sparse_categorical_crossentropy', metrics=['accuracy'])\n",
        "    return model"
      ],
      "metadata": {
        "id": "6X3KbNJCZW4K"
      },
      "execution_count": null,
      "outputs": []
    },
    {
      "cell_type": "code",
      "source": [
        "input_shape = (X_train.shape[1],)\n",
        "eegnet = build_eegnet(input_shape)"
      ],
      "metadata": {
        "id": "LIdKlnrHZdPE"
      },
      "execution_count": null,
      "outputs": []
    },
    {
      "cell_type": "code",
      "source": [
        "#fit the model\n",
        "eegnet.fit(X_train, y_train, epochs=10, batch_size=32, validation_split=0.1)"
      ],
      "metadata": {
        "colab": {
          "base_uri": "https://localhost:8080/"
        },
        "id": "52GCJHfmZwNk",
        "outputId": "eb751795-b843-4820-b633-49d705dc5d7b"
      },
      "execution_count": null,
      "outputs": [
        {
          "output_type": "stream",
          "name": "stdout",
          "text": [
            "Epoch 1/10\n",
            "1/1 [==============================] - 1s 1s/step - loss: 0.6922 - accuracy: 0.5714 - val_loss: 0.6862 - val_accuracy: 0.5000\n",
            "Epoch 2/10\n",
            "1/1 [==============================] - 0s 34ms/step - loss: 0.6912 - accuracy: 0.5714 - val_loss: 0.6848 - val_accuracy: 0.5000\n",
            "Epoch 3/10\n",
            "1/1 [==============================] - 0s 35ms/step - loss: 0.6903 - accuracy: 0.5714 - val_loss: 0.6835 - val_accuracy: 0.5000\n",
            "Epoch 4/10\n",
            "1/1 [==============================] - 0s 34ms/step - loss: 0.6894 - accuracy: 0.5714 - val_loss: 0.6821 - val_accuracy: 0.5000\n",
            "Epoch 5/10\n",
            "1/1 [==============================] - 0s 35ms/step - loss: 0.6885 - accuracy: 0.5714 - val_loss: 0.6806 - val_accuracy: 0.5000\n",
            "Epoch 6/10\n",
            "1/1 [==============================] - 0s 36ms/step - loss: 0.6877 - accuracy: 0.5714 - val_loss: 0.6790 - val_accuracy: 0.5000\n",
            "Epoch 7/10\n",
            "1/1 [==============================] - 0s 42ms/step - loss: 0.6868 - accuracy: 0.5714 - val_loss: 0.6774 - val_accuracy: 0.5000\n",
            "Epoch 8/10\n",
            "1/1 [==============================] - 0s 36ms/step - loss: 0.6859 - accuracy: 0.5714 - val_loss: 0.6758 - val_accuracy: 0.5000\n",
            "Epoch 9/10\n",
            "1/1 [==============================] - 0s 36ms/step - loss: 0.6851 - accuracy: 0.5714 - val_loss: 0.6741 - val_accuracy: 0.5000\n",
            "Epoch 10/10\n",
            "1/1 [==============================] - 0s 34ms/step - loss: 0.6842 - accuracy: 0.5714 - val_loss: 0.6724 - val_accuracy: 0.5000\n"
          ]
        },
        {
          "output_type": "execute_result",
          "data": {
            "text/plain": [
              "<keras.src.callbacks.History at 0x7bcfbc2bb250>"
            ]
          },
          "metadata": {},
          "execution_count": 21
        }
      ]
    },
    {
      "cell_type": "code",
      "source": [
        "# Evaluate EEGNet\n",
        "\n",
        "y_pred = eegnet.predict(X_test).argmax(axis=1)   #predicting class labels"
      ],
      "metadata": {
        "colab": {
          "base_uri": "https://localhost:8080/"
        },
        "id": "YD9zD7aiZ15U",
        "outputId": "21a00949-cd6c-4ab9-c02b-05b8c95f7747"
      },
      "execution_count": null,
      "outputs": [
        {
          "output_type": "stream",
          "name": "stdout",
          "text": [
            "1/1 [==============================] - 0s 107ms/step\n"
          ]
        }
      ]
    },
    {
      "cell_type": "code",
      "source": [
        "# Print results\n",
        "\n",
        "print(\"EEGNet Results\")\n",
        "print(f'Accuracy: {accuracy_score(y_test, y_pred)}')\n",
        "print(f'Precision: {precision_score(y_test, y_pred)}')\n",
        "print(f'Recall: {recall_score(y_test, y_pred)}')\n",
        "print(f'F1 Score: {f1_score(y_test, y_pred)}')"
      ],
      "metadata": {
        "colab": {
          "base_uri": "https://localhost:8080/"
        },
        "id": "T-8OxW3kaOlA",
        "outputId": "9291b8a3-1e9e-45e1-ea14-9d708e4f80ff"
      },
      "execution_count": null,
      "outputs": [
        {
          "output_type": "stream",
          "name": "stdout",
          "text": [
            "EEGNet Results\n",
            "Accuracy: 0.4\n",
            "Precision: 0.4\n",
            "Recall: 1.0\n",
            "F1 Score: 0.5714285714285715\n"
          ]
        }
      ]
    },
    {
      "cell_type": "markdown",
      "source": [
        "1. Training and Validation Performance:\n",
        "\n",
        "- Both training and validation losses decrease slightly over the epochs, indicating some level of learning.\n",
        "- However, the training accuracy stays at 57.14% and validation accuracy at 50.00%, suggesting that the model might not be learning effectively or the dataset is very small and imbalanced.\n",
        "\n",
        "2. Evaluation Metrics:\n",
        "\n",
        "- The model achieves a lower accuracy of 40%, indicating that it correctly classifies 40% of the samples.\n",
        "- Precision is also at 40%, implying that out of all the predicted positives, only 40% were actual positives.\n",
        "- The recall is very high at 100%, meaning the model successfully identifies all actual positive samples.\n",
        "- The F1 score is 57.14%, reflecting a balance between precision and recall but indicating room for improvement.\n",
        "\n",
        "Overall:\n",
        "- The model shows moderate performance in terms of recall but low precision and accuracy, suggesting it predicts all samples of one class correctly but struggles to correctly predict the other class. This could be due to an imbalanced dataset, insufficient training, or model complexity issues. Further tuning and additional data might be needed to improve the model's performance."
      ],
      "metadata": {
        "id": "M2L-1iPnbZQ3"
      }
    },
    {
      "cell_type": "code",
      "source": [],
      "metadata": {
        "id": "10t4K8o4aVYx"
      },
      "execution_count": null,
      "outputs": []
    }
  ]
}